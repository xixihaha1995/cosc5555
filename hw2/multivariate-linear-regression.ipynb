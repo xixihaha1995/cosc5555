{
 "cells": [
  {
   "cell_type": "markdown",
   "metadata": {},
   "source": [
    "# Problem Description\n",
    "\n",
    "This notebook will guide you through implementation of **multivariate linear regression** to to solve the **polynomial regression** problem:\n",
    "\n",
    "$$\n",
    "h_{\\theta}(x) = \\theta_0 + \\theta_1 x + \\theta_2 x^2 +  \\theta_3 x^3 + \\theta_4 x^4\n",
    "= \\boldsymbol{\\theta}^T \\mathbf{x}\n",
    "$$\n",
    "\n",
    "$$\n",
    "\\boldsymbol{\\theta} = \\begin{bmatrix}\\theta_0 \\\\ \\theta_1 \\\\ \\theta_2 \\\\ \\theta_3 \\\\ \\theta_4\\end{bmatrix}, \n",
    "\\qquad\n",
    "\\mathbf{x} = \\begin{bmatrix}1 \\\\ x \\\\ x^2 \\\\ x^3 \\\\ x^4\\end{bmatrix}\n",
    "$$\n",
    "\n",
    "Below, you will follow steps to \n",
    "\n",
    "1. Implement the cost function for multivarate linear regression\n",
    "1. Compare vectorized code with for-loops\n",
    "1. Implement the normal equations method to solve a multivariate linear regression problem\n",
    "1. Implement gradient descent for multivariate linear regression\n",
    "1. Experiment with feature normalization to improve the convergence of gradient descent\n"
   ]
  },
  {
   "cell_type": "markdown",
   "metadata": {},
   "source": [
    "## Imports\n",
    "Run this code."
   ]
  },
  {
   "cell_type": "code",
   "execution_count": 1,
   "metadata": {},
   "outputs": [],
   "source": [
    "%matplotlib inline\n",
    "\n",
    "import numpy as np\n",
    "import matplotlib.pyplot as plt\n",
    "from IPython.display import display, clear_output"
   ]
  },
  {
   "cell_type": "markdown",
   "metadata": {},
   "source": [
    "## Helper functions\n",
    "Run this code to set up the helper functions. The function ``feature_expansion`` accepts an vector of $n$ scalar x values and returns an $n \\times 5$ data matrix by applying the feature expansion $x \\mapsto [1, x, x^2, x^3, x^4]$ to each scalar $x$ value."
   ]
  },
  {
   "cell_type": "code",
   "execution_count": 2,
   "metadata": {},
   "outputs": [],
   "source": [
    "def feature_expansion(x, deg):\n",
    "    if x.ndim > 1:\n",
    "        raise ValueError('x should be a 1-dimensional array')\n",
    "    m = x.shape\n",
    "    x_powers = [x**k for k in range(0,deg+1)]\n",
    "    X = np.stack( x_powers, axis=1 )\n",
    "\n",
    "    return X\n",
    "\n",
    "def plot_model(X_test, theta):\n",
    "    '''\n",
    "    Note: uses globals x, y, x_test, which are assigned below\n",
    "    when the dataset is created. Don't overwrite these variables.\n",
    "    '''\n",
    "    y_test = np.dot(X_test, theta)\n",
    "    plt.scatter(x, y)\n",
    "    plt.plot(x_test, y_test)\n",
    "    plt.legend(['Test', 'Train'])"
   ]
  },
  {
   "cell_type": "markdown",
   "metadata": {},
   "source": [
    "## (2 points) List comprehensions\n",
    "\n",
    "Read about Python list comprehensions. Explain what is happening in the following line of code\n",
    "\n",
    "```python\n",
    "x_powers = [x**k for k in range(0,deg+1)]\n",
    "```"
   ]
  },
  {
   "cell_type": "markdown",
   "metadata": {},
   "source": [
    "** *Your answer here* **\n",
    "k is in the range\\[0,1,...,deg-1,deg\\]:\n",
    "    x_powers.append(x\\**k);\n",
    "Basically, x_powers will be \\[x\\**0, x\\**1, ... x\\**(deg-1), x\\**deg\\]"
   ]
  },
  {
   "cell_type": "markdown",
   "metadata": {},
   "source": [
    "## Create a data set for polynomial regression\n",
    "\n",
    "Read and run the code below. This generates data from a fourth-degree polynomial and then uses feature expansion to set up the problem of learning the polynomial as multivariate linear regression"
   ]
  },
  {
   "cell_type": "code",
   "execution_count": 3,
   "metadata": {},
   "outputs": [
    {
     "output_type": "display_data",
     "data": {
      "text/plain": "<Figure size 432x288 with 1 Axes>",
      "image/svg+xml": "<?xml version=\"1.0\" encoding=\"utf-8\" standalone=\"no\"?>\r\n<!DOCTYPE svg PUBLIC \"-//W3C//DTD SVG 1.1//EN\"\r\n  \"http://www.w3.org/Graphics/SVG/1.1/DTD/svg11.dtd\">\r\n<!-- Created with matplotlib (https://matplotlib.org/) -->\r\n<svg height=\"277.314375pt\" version=\"1.1\" viewBox=\"0 0 390.982812 277.314375\" width=\"390.982812pt\" xmlns=\"http://www.w3.org/2000/svg\" xmlns:xlink=\"http://www.w3.org/1999/xlink\">\r\n <metadata>\r\n  <rdf:RDF xmlns:cc=\"http://creativecommons.org/ns#\" xmlns:dc=\"http://purl.org/dc/elements/1.1/\" xmlns:rdf=\"http://www.w3.org/1999/02/22-rdf-syntax-ns#\">\r\n   <cc:Work>\r\n    <dc:type rdf:resource=\"http://purl.org/dc/dcmitype/StillImage\"/>\r\n    <dc:date>2021-02-28T12:31:36.460094</dc:date>\r\n    <dc:format>image/svg+xml</dc:format>\r\n    <dc:creator>\r\n     <cc:Agent>\r\n      <dc:title>Matplotlib v3.3.2, https://matplotlib.org/</dc:title>\r\n     </cc:Agent>\r\n    </dc:creator>\r\n   </cc:Work>\r\n  </rdf:RDF>\r\n </metadata>\r\n <defs>\r\n  <style type=\"text/css\">*{stroke-linecap:butt;stroke-linejoin:round;}</style>\r\n </defs>\r\n <g id=\"figure_1\">\r\n  <g id=\"patch_1\">\r\n   <path d=\"M 0 277.314375 \r\nL 390.982812 277.314375 \r\nL 390.982812 0 \r\nL 0 0 \r\nz\r\n\" style=\"fill:none;\"/>\r\n  </g>\r\n  <g id=\"axes_1\">\r\n   <g id=\"patch_2\">\r\n    <path d=\"M 48.982813 239.758125 \r\nL 383.782813 239.758125 \r\nL 383.782813 22.318125 \r\nL 48.982813 22.318125 \r\nz\r\n\" style=\"fill:#ffffff;\"/>\r\n   </g>\r\n   <g id=\"PathCollection_1\">\r\n    <defs>\r\n     <path d=\"M 0 3 \r\nC 0.795609 3 1.55874 2.683901 2.12132 2.12132 \r\nC 2.683901 1.55874 3 0.795609 3 0 \r\nC 3 -0.795609 2.683901 -1.55874 2.12132 -2.12132 \r\nC 1.55874 -2.683901 0.795609 -3 0 -3 \r\nC -0.795609 -3 -1.55874 -2.683901 -2.12132 -2.12132 \r\nC -2.683901 -1.55874 -3 -0.795609 -3 0 \r\nC -3 0.795609 -2.683901 1.55874 -2.12132 2.12132 \r\nC -1.55874 2.683901 -0.795609 3 0 3 \r\nz\r\n\" id=\"m7052d9a6b9\" style=\"stroke:#1f77b4;\"/>\r\n    </defs>\r\n    <g clip-path=\"url(#p9ac05bd2ff)\">\r\n     <use style=\"fill:#1f77b4;stroke:#1f77b4;\" x=\"232.558608\" xlink:href=\"#m7052d9a6b9\" y=\"124.165892\"/>\r\n     <use style=\"fill:#1f77b4;stroke:#1f77b4;\" x=\"284.037592\" xlink:href=\"#m7052d9a6b9\" y=\"67.278916\"/>\r\n     <use style=\"fill:#1f77b4;stroke:#1f77b4;\" x=\"249.251442\" xlink:href=\"#m7052d9a6b9\" y=\"100.668885\"/>\r\n     <use style=\"fill:#1f77b4;stroke:#1f77b4;\" x=\"231.342512\" xlink:href=\"#m7052d9a6b9\" y=\"128.044386\"/>\r\n     <use style=\"fill:#1f77b4;stroke:#1f77b4;\" x=\"193.832781\" xlink:href=\"#m7052d9a6b9\" y=\"97.540646\"/>\r\n     <use style=\"fill:#1f77b4;stroke:#1f77b4;\" x=\"262.596686\" xlink:href=\"#m7052d9a6b9\" y=\"77.378488\"/>\r\n     <use style=\"fill:#1f77b4;stroke:#1f77b4;\" x=\"198.143661\" xlink:href=\"#m7052d9a6b9\" y=\"101.955631\"/>\r\n     <use style=\"fill:#1f77b4;stroke:#1f77b4;\" x=\"338.675001\" xlink:href=\"#m7052d9a6b9\" y=\"52.085108\"/>\r\n     <use style=\"fill:#1f77b4;stroke:#1f77b4;\" x=\"360.918683\" xlink:href=\"#m7052d9a6b9\" y=\"89.914114\"/>\r\n     <use style=\"fill:#1f77b4;stroke:#1f77b4;\" x=\"181.390238\" xlink:href=\"#m7052d9a6b9\" y=\"95.946439\"/>\r\n     <use style=\"fill:#1f77b4;stroke:#1f77b4;\" x=\"307.718783\" xlink:href=\"#m7052d9a6b9\" y=\"59.31955\"/>\r\n     <use style=\"fill:#1f77b4;stroke:#1f77b4;\" x=\"226.395524\" xlink:href=\"#m7052d9a6b9\" y=\"103.370979\"/>\r\n     <use style=\"fill:#1f77b4;stroke:#1f77b4;\" x=\"238.508962\" xlink:href=\"#m7052d9a6b9\" y=\"108.933129\"/>\r\n     <use style=\"fill:#1f77b4;stroke:#1f77b4;\" x=\"349.1405\" xlink:href=\"#m7052d9a6b9\" y=\"50.416351\"/>\r\n     <use style=\"fill:#1f77b4;stroke:#1f77b4;\" x=\"84.727684\" xlink:href=\"#m7052d9a6b9\" y=\"139.902826\"/>\r\n     <use style=\"fill:#1f77b4;stroke:#1f77b4;\" x=\"89.707155\" xlink:href=\"#m7052d9a6b9\" y=\"122.591471\"/>\r\n     <use style=\"fill:#1f77b4;stroke:#1f77b4;\" x=\"69.004\" xlink:href=\"#m7052d9a6b9\" y=\"204.974525\"/>\r\n     <use style=\"fill:#1f77b4;stroke:#1f77b4;\" x=\"320.3722\" xlink:href=\"#m7052d9a6b9\" y=\"32.201761\"/>\r\n     <use style=\"fill:#1f77b4;stroke:#1f77b4;\" x=\"303.520568\" xlink:href=\"#m7052d9a6b9\" y=\"57.380312\"/>\r\n     <use style=\"fill:#1f77b4;stroke:#1f77b4;\" x=\"331.941893\" xlink:href=\"#m7052d9a6b9\" y=\"44.224262\"/>\r\n     <use style=\"fill:#1f77b4;stroke:#1f77b4;\" x=\"365.546146\" xlink:href=\"#m7052d9a6b9\" y=\"73.479834\"/>\r\n     <use style=\"fill:#1f77b4;stroke:#1f77b4;\" x=\"310.018818\" xlink:href=\"#m7052d9a6b9\" y=\"66.694299\"/>\r\n     <use style=\"fill:#1f77b4;stroke:#1f77b4;\" x=\"205.536221\" xlink:href=\"#m7052d9a6b9\" y=\"126.888948\"/>\r\n     <use style=\"fill:#1f77b4;stroke:#1f77b4;\" x=\"304.254629\" xlink:href=\"#m7052d9a6b9\" y=\"48.898382\"/>\r\n     <use style=\"fill:#1f77b4;stroke:#1f77b4;\" x=\"99.343886\" xlink:href=\"#m7052d9a6b9\" y=\"119.517502\"/>\r\n     <use style=\"fill:#1f77b4;stroke:#1f77b4;\" x=\"260.748529\" xlink:href=\"#m7052d9a6b9\" y=\"78.435563\"/>\r\n     <use style=\"fill:#1f77b4;stroke:#1f77b4;\" x=\"107.103631\" xlink:href=\"#m7052d9a6b9\" y=\"100.963069\"/>\r\n     <use style=\"fill:#1f77b4;stroke:#1f77b4;\" x=\"355.041726\" xlink:href=\"#m7052d9a6b9\" y=\"75.320513\"/>\r\n     <use style=\"fill:#1f77b4;stroke:#1f77b4;\" x=\"224.215209\" xlink:href=\"#m7052d9a6b9\" y=\"97.188834\"/>\r\n     <use style=\"fill:#1f77b4;stroke:#1f77b4;\" x=\"191.050266\" xlink:href=\"#m7052d9a6b9\" y=\"96.503027\"/>\r\n     <use style=\"fill:#1f77b4;stroke:#1f77b4;\" x=\"144.6053\" xlink:href=\"#m7052d9a6b9\" y=\"69.031095\"/>\r\n     <use style=\"fill:#1f77b4;stroke:#1f77b4;\" x=\"302.306719\" xlink:href=\"#m7052d9a6b9\" y=\"50.994154\"/>\r\n     <use style=\"fill:#1f77b4;stroke:#1f77b4;\" x=\"203.887346\" xlink:href=\"#m7052d9a6b9\" y=\"122.696427\"/>\r\n     <use style=\"fill:#1f77b4;stroke:#1f77b4;\" x=\"238.629444\" xlink:href=\"#m7052d9a6b9\" y=\"92.871918\"/>\r\n     <use style=\"fill:#1f77b4;stroke:#1f77b4;\" x=\"68.561972\" xlink:href=\"#m7052d9a6b9\" y=\"209.76305\"/>\r\n     <use style=\"fill:#1f77b4;stroke:#1f77b4;\" x=\"253.853081\" xlink:href=\"#m7052d9a6b9\" y=\"94.398811\"/>\r\n     <use style=\"fill:#1f77b4;stroke:#1f77b4;\" x=\"252.138998\" xlink:href=\"#m7052d9a6b9\" y=\"94.231144\"/>\r\n     <use style=\"fill:#1f77b4;stroke:#1f77b4;\" x=\"253.636027\" xlink:href=\"#m7052d9a6b9\" y=\"103.558607\"/>\r\n     <use style=\"fill:#1f77b4;stroke:#1f77b4;\" x=\"354.756806\" xlink:href=\"#m7052d9a6b9\" y=\"62.029819\"/>\r\n     <use style=\"fill:#1f77b4;stroke:#1f77b4;\" x=\"273.712743\" xlink:href=\"#m7052d9a6b9\" y=\"76.767502\"/>\r\n     <use style=\"fill:#1f77b4;stroke:#1f77b4;\" x=\"173.984846\" xlink:href=\"#m7052d9a6b9\" y=\"98.285999\"/>\r\n     <use style=\"fill:#1f77b4;stroke:#1f77b4;\" x=\"197.971856\" xlink:href=\"#m7052d9a6b9\" y=\"123.329979\"/>\r\n     <use style=\"fill:#1f77b4;stroke:#1f77b4;\" x=\"278.604852\" xlink:href=\"#m7052d9a6b9\" y=\"78.076119\"/>\r\n     <use style=\"fill:#1f77b4;stroke:#1f77b4;\" x=\"81.38274\" xlink:href=\"#m7052d9a6b9\" y=\"141.594526\"/>\r\n     <use style=\"fill:#1f77b4;stroke:#1f77b4;\" x=\"269.054956\" xlink:href=\"#m7052d9a6b9\" y=\"96.196024\"/>\r\n     <use style=\"fill:#1f77b4;stroke:#1f77b4;\" x=\"270.252745\" xlink:href=\"#m7052d9a6b9\" y=\"89.999543\"/>\r\n     <use style=\"fill:#1f77b4;stroke:#1f77b4;\" x=\"127.843412\" xlink:href=\"#m7052d9a6b9\" y=\"88.368566\"/>\r\n     <use style=\"fill:#1f77b4;stroke:#1f77b4;\" x=\"102.639722\" xlink:href=\"#m7052d9a6b9\" y=\"85.713189\"/>\r\n     <use style=\"fill:#1f77b4;stroke:#1f77b4;\" x=\"160.346026\" xlink:href=\"#m7052d9a6b9\" y=\"87.718675\"/>\r\n     <use style=\"fill:#1f77b4;stroke:#1f77b4;\" x=\"175.285272\" xlink:href=\"#m7052d9a6b9\" y=\"98.725543\"/>\r\n     <use style=\"fill:#1f77b4;stroke:#1f77b4;\" x=\"239.174885\" xlink:href=\"#m7052d9a6b9\" y=\"117.832927\"/>\r\n     <use style=\"fill:#1f77b4;stroke:#1f77b4;\" x=\"198.4575\" xlink:href=\"#m7052d9a6b9\" y=\"108.069736\"/>\r\n     <use style=\"fill:#1f77b4;stroke:#1f77b4;\" x=\"368.564631\" xlink:href=\"#m7052d9a6b9\" y=\"106.098229\"/>\r\n     <use style=\"fill:#1f77b4;stroke:#1f77b4;\" x=\"94.32222\" xlink:href=\"#m7052d9a6b9\" y=\"118.010935\"/>\r\n     <use style=\"fill:#1f77b4;stroke:#1f77b4;\" x=\"127.377495\" xlink:href=\"#m7052d9a6b9\" y=\"90.320599\"/>\r\n     <use style=\"fill:#1f77b4;stroke:#1f77b4;\" x=\"112.659536\" xlink:href=\"#m7052d9a6b9\" y=\"85.017064\"/>\r\n     <use style=\"fill:#1f77b4;stroke:#1f77b4;\" x=\"264.828862\" xlink:href=\"#m7052d9a6b9\" y=\"87.917411\"/>\r\n     <use style=\"fill:#1f77b4;stroke:#1f77b4;\" x=\"141.12006\" xlink:href=\"#m7052d9a6b9\" y=\"87.448822\"/>\r\n     <use style=\"fill:#1f77b4;stroke:#1f77b4;\" x=\"207.031126\" xlink:href=\"#m7052d9a6b9\" y=\"111.483157\"/>\r\n     <use style=\"fill:#1f77b4;stroke:#1f77b4;\" x=\"138.376795\" xlink:href=\"#m7052d9a6b9\" y=\"95.097499\"/>\r\n     <use style=\"fill:#1f77b4;stroke:#1f77b4;\" x=\"111.935528\" xlink:href=\"#m7052d9a6b9\" y=\"106.042072\"/>\r\n     <use style=\"fill:#1f77b4;stroke:#1f77b4;\" x=\"96.899739\" xlink:href=\"#m7052d9a6b9\" y=\"108.876713\"/>\r\n     <use style=\"fill:#1f77b4;stroke:#1f77b4;\" x=\"265.825566\" xlink:href=\"#m7052d9a6b9\" y=\"90.920937\"/>\r\n     <use style=\"fill:#1f77b4;stroke:#1f77b4;\" x=\"105.503858\" xlink:href=\"#m7052d9a6b9\" y=\"93.104516\"/>\r\n     <use style=\"fill:#1f77b4;stroke:#1f77b4;\" x=\"123.57344\" xlink:href=\"#m7052d9a6b9\" y=\"62.775178\"/>\r\n     <use style=\"fill:#1f77b4;stroke:#1f77b4;\" x=\"176.836797\" xlink:href=\"#m7052d9a6b9\" y=\"94.53651\"/>\r\n     <use style=\"fill:#1f77b4;stroke:#1f77b4;\" x=\"316.774765\" xlink:href=\"#m7052d9a6b9\" y=\"58.959035\"/>\r\n     <use style=\"fill:#1f77b4;stroke:#1f77b4;\" x=\"92.792622\" xlink:href=\"#m7052d9a6b9\" y=\"111.215706\"/>\r\n     <use style=\"fill:#1f77b4;stroke:#1f77b4;\" x=\"322.019847\" xlink:href=\"#m7052d9a6b9\" y=\"60.900118\"/>\r\n     <use style=\"fill:#1f77b4;stroke:#1f77b4;\" x=\"92.482321\" xlink:href=\"#m7052d9a6b9\" y=\"126.781424\"/>\r\n     <use style=\"fill:#1f77b4;stroke:#1f77b4;\" x=\"364.87816\" xlink:href=\"#m7052d9a6b9\" y=\"90.066532\"/>\r\n     <use style=\"fill:#1f77b4;stroke:#1f77b4;\" x=\"207.755287\" xlink:href=\"#m7052d9a6b9\" y=\"99.208221\"/>\r\n     <use style=\"fill:#1f77b4;stroke:#1f77b4;\" x=\"364.971486\" xlink:href=\"#m7052d9a6b9\" y=\"96.674309\"/>\r\n     <use style=\"fill:#1f77b4;stroke:#1f77b4;\" x=\"249.895685\" xlink:href=\"#m7052d9a6b9\" y=\"112.408583\"/>\r\n     <use style=\"fill:#1f77b4;stroke:#1f77b4;\" x=\"291.486485\" xlink:href=\"#m7052d9a6b9\" y=\"69.733832\"/>\r\n     <use style=\"fill:#1f77b4;stroke:#1f77b4;\" x=\"74.873392\" xlink:href=\"#m7052d9a6b9\" y=\"184.862569\"/>\r\n     <use style=\"fill:#1f77b4;stroke:#1f77b4;\" x=\"150.252519\" xlink:href=\"#m7052d9a6b9\" y=\"78.293018\"/>\r\n     <use style=\"fill:#1f77b4;stroke:#1f77b4;\" x=\"99.938621\" xlink:href=\"#m7052d9a6b9\" y=\"117.610316\"/>\r\n     <use style=\"fill:#1f77b4;stroke:#1f77b4;\" x=\"154.378006\" xlink:href=\"#m7052d9a6b9\" y=\"101.661992\"/>\r\n     <use style=\"fill:#1f77b4;stroke:#1f77b4;\" x=\"99.484141\" xlink:href=\"#m7052d9a6b9\" y=\"112.355608\"/>\r\n     <use style=\"fill:#1f77b4;stroke:#1f77b4;\" x=\"161.136526\" xlink:href=\"#m7052d9a6b9\" y=\"99.166804\"/>\r\n     <use style=\"fill:#1f77b4;stroke:#1f77b4;\" x=\"190.926827\" xlink:href=\"#m7052d9a6b9\" y=\"92.227864\"/>\r\n     <use style=\"fill:#1f77b4;stroke:#1f77b4;\" x=\"82.596268\" xlink:href=\"#m7052d9a6b9\" y=\"141.081044\"/>\r\n     <use style=\"fill:#1f77b4;stroke:#1f77b4;\" x=\"277.008563\" xlink:href=\"#m7052d9a6b9\" y=\"81.556071\"/>\r\n     <use style=\"fill:#1f77b4;stroke:#1f77b4;\" x=\"238.062445\" xlink:href=\"#m7052d9a6b9\" y=\"122.616145\"/>\r\n     <use style=\"fill:#1f77b4;stroke:#1f77b4;\" x=\"144.863314\" xlink:href=\"#m7052d9a6b9\" y=\"78.747654\"/>\r\n     <use style=\"fill:#1f77b4;stroke:#1f77b4;\" x=\"224.648305\" xlink:href=\"#m7052d9a6b9\" y=\"124.611313\"/>\r\n     <use style=\"fill:#1f77b4;stroke:#1f77b4;\" x=\"91.814637\" xlink:href=\"#m7052d9a6b9\" y=\"138.542056\"/>\r\n     <use style=\"fill:#1f77b4;stroke:#1f77b4;\" x=\"240.953929\" xlink:href=\"#m7052d9a6b9\" y=\"98.570611\"/>\r\n     <use style=\"fill:#1f77b4;stroke:#1f77b4;\" x=\"350.285195\" xlink:href=\"#m7052d9a6b9\" y=\"58.093719\"/>\r\n     <use style=\"fill:#1f77b4;stroke:#1f77b4;\" x=\"161.317772\" xlink:href=\"#m7052d9a6b9\" y=\"85.921788\"/>\r\n     <use style=\"fill:#1f77b4;stroke:#1f77b4;\" x=\"269.254115\" xlink:href=\"#m7052d9a6b9\" y=\"86.487544\"/>\r\n     <use style=\"fill:#1f77b4;stroke:#1f77b4;\" x=\"103.528224\" xlink:href=\"#m7052d9a6b9\" y=\"93.73608\"/>\r\n     <use style=\"fill:#1f77b4;stroke:#1f77b4;\" x=\"284.389654\" xlink:href=\"#m7052d9a6b9\" y=\"81.543624\"/>\r\n     <use style=\"fill:#1f77b4;stroke:#1f77b4;\" x=\"152.294381\" xlink:href=\"#m7052d9a6b9\" y=\"99.570778\"/>\r\n     <use style=\"fill:#1f77b4;stroke:#1f77b4;\" x=\"119.43008\" xlink:href=\"#m7052d9a6b9\" y=\"80.42781\"/>\r\n     <use style=\"fill:#1f77b4;stroke:#1f77b4;\" x=\"244.223331\" xlink:href=\"#m7052d9a6b9\" y=\"115.596847\"/>\r\n     <use style=\"fill:#1f77b4;stroke:#1f77b4;\" x=\"68.969701\" xlink:href=\"#m7052d9a6b9\" y=\"211.726694\"/>\r\n     <use style=\"fill:#1f77b4;stroke:#1f77b4;\" x=\"319.233614\" xlink:href=\"#m7052d9a6b9\" y=\"53.671806\"/>\r\n     <use style=\"fill:#1f77b4;stroke:#1f77b4;\" x=\"64.200994\" xlink:href=\"#m7052d9a6b9\" y=\"229.874489\"/>\r\n    </g>\r\n   </g>\r\n   <g id=\"matplotlib.axis_1\">\r\n    <g id=\"xtick_1\">\r\n     <g id=\"line2d_1\">\r\n      <defs>\r\n       <path d=\"M 0 0 \r\nL 0 3.5 \r\n\" id=\"m15f7caf45c\" style=\"stroke:#000000;stroke-width:0.8;\"/>\r\n      </defs>\r\n      <g>\r\n       <use style=\"stroke:#000000;stroke-width:0.8;\" x=\"93.689527\" xlink:href=\"#m15f7caf45c\" y=\"239.758125\"/>\r\n      </g>\r\n     </g>\r\n     <g id=\"text_1\">\r\n      <!-- −4 -->\r\n      <g transform=\"translate(86.318433 254.356562)scale(0.1 -0.1)\">\r\n       <defs>\r\n        <path d=\"M 10.59375 35.5 \r\nL 73.1875 35.5 \r\nL 73.1875 27.203125 \r\nL 10.59375 27.203125 \r\nz\r\n\" id=\"DejaVuSans-8722\"/>\r\n        <path d=\"M 37.796875 64.3125 \r\nL 12.890625 25.390625 \r\nL 37.796875 25.390625 \r\nz\r\nM 35.203125 72.90625 \r\nL 47.609375 72.90625 \r\nL 47.609375 25.390625 \r\nL 58.015625 25.390625 \r\nL 58.015625 17.1875 \r\nL 47.609375 17.1875 \r\nL 47.609375 0 \r\nL 37.796875 0 \r\nL 37.796875 17.1875 \r\nL 4.890625 17.1875 \r\nL 4.890625 26.703125 \r\nz\r\n\" id=\"DejaVuSans-52\"/>\r\n       </defs>\r\n       <use xlink:href=\"#DejaVuSans-8722\"/>\r\n       <use x=\"83.789062\" xlink:href=\"#DejaVuSans-52\"/>\r\n      </g>\r\n     </g>\r\n    </g>\r\n    <g id=\"xtick_2\">\r\n     <g id=\"line2d_2\">\r\n      <g>\r\n       <use style=\"stroke:#000000;stroke-width:0.8;\" x=\"155.572282\" xlink:href=\"#m15f7caf45c\" y=\"239.758125\"/>\r\n      </g>\r\n     </g>\r\n     <g id=\"text_2\">\r\n      <!-- −2 -->\r\n      <g transform=\"translate(148.201188 254.356562)scale(0.1 -0.1)\">\r\n       <defs>\r\n        <path d=\"M 19.1875 8.296875 \r\nL 53.609375 8.296875 \r\nL 53.609375 0 \r\nL 7.328125 0 \r\nL 7.328125 8.296875 \r\nQ 12.9375 14.109375 22.625 23.890625 \r\nQ 32.328125 33.6875 34.8125 36.53125 \r\nQ 39.546875 41.84375 41.421875 45.53125 \r\nQ 43.3125 49.21875 43.3125 52.78125 \r\nQ 43.3125 58.59375 39.234375 62.25 \r\nQ 35.15625 65.921875 28.609375 65.921875 \r\nQ 23.96875 65.921875 18.8125 64.3125 \r\nQ 13.671875 62.703125 7.8125 59.421875 \r\nL 7.8125 69.390625 \r\nQ 13.765625 71.78125 18.9375 73 \r\nQ 24.125 74.21875 28.421875 74.21875 \r\nQ 39.75 74.21875 46.484375 68.546875 \r\nQ 53.21875 62.890625 53.21875 53.421875 \r\nQ 53.21875 48.921875 51.53125 44.890625 \r\nQ 49.859375 40.875 45.40625 35.40625 \r\nQ 44.1875 33.984375 37.640625 27.21875 \r\nQ 31.109375 20.453125 19.1875 8.296875 \r\nz\r\n\" id=\"DejaVuSans-50\"/>\r\n       </defs>\r\n       <use xlink:href=\"#DejaVuSans-8722\"/>\r\n       <use x=\"83.789062\" xlink:href=\"#DejaVuSans-50\"/>\r\n      </g>\r\n     </g>\r\n    </g>\r\n    <g id=\"xtick_3\">\r\n     <g id=\"line2d_3\">\r\n      <g>\r\n       <use style=\"stroke:#000000;stroke-width:0.8;\" x=\"217.455037\" xlink:href=\"#m15f7caf45c\" y=\"239.758125\"/>\r\n      </g>\r\n     </g>\r\n     <g id=\"text_3\">\r\n      <!-- 0 -->\r\n      <g transform=\"translate(214.273787 254.356562)scale(0.1 -0.1)\">\r\n       <defs>\r\n        <path d=\"M 31.78125 66.40625 \r\nQ 24.171875 66.40625 20.328125 58.90625 \r\nQ 16.5 51.421875 16.5 36.375 \r\nQ 16.5 21.390625 20.328125 13.890625 \r\nQ 24.171875 6.390625 31.78125 6.390625 \r\nQ 39.453125 6.390625 43.28125 13.890625 \r\nQ 47.125 21.390625 47.125 36.375 \r\nQ 47.125 51.421875 43.28125 58.90625 \r\nQ 39.453125 66.40625 31.78125 66.40625 \r\nz\r\nM 31.78125 74.21875 \r\nQ 44.046875 74.21875 50.515625 64.515625 \r\nQ 56.984375 54.828125 56.984375 36.375 \r\nQ 56.984375 17.96875 50.515625 8.265625 \r\nQ 44.046875 -1.421875 31.78125 -1.421875 \r\nQ 19.53125 -1.421875 13.0625 8.265625 \r\nQ 6.59375 17.96875 6.59375 36.375 \r\nQ 6.59375 54.828125 13.0625 64.515625 \r\nQ 19.53125 74.21875 31.78125 74.21875 \r\nz\r\n\" id=\"DejaVuSans-48\"/>\r\n       </defs>\r\n       <use xlink:href=\"#DejaVuSans-48\"/>\r\n      </g>\r\n     </g>\r\n    </g>\r\n    <g id=\"xtick_4\">\r\n     <g id=\"line2d_4\">\r\n      <g>\r\n       <use style=\"stroke:#000000;stroke-width:0.8;\" x=\"279.337793\" xlink:href=\"#m15f7caf45c\" y=\"239.758125\"/>\r\n      </g>\r\n     </g>\r\n     <g id=\"text_4\">\r\n      <!-- 2 -->\r\n      <g transform=\"translate(276.156543 254.356562)scale(0.1 -0.1)\">\r\n       <use xlink:href=\"#DejaVuSans-50\"/>\r\n      </g>\r\n     </g>\r\n    </g>\r\n    <g id=\"xtick_5\">\r\n     <g id=\"line2d_5\">\r\n      <g>\r\n       <use style=\"stroke:#000000;stroke-width:0.8;\" x=\"341.220548\" xlink:href=\"#m15f7caf45c\" y=\"239.758125\"/>\r\n      </g>\r\n     </g>\r\n     <g id=\"text_5\">\r\n      <!-- 4 -->\r\n      <g transform=\"translate(338.039298 254.356562)scale(0.1 -0.1)\">\r\n       <use xlink:href=\"#DejaVuSans-52\"/>\r\n      </g>\r\n     </g>\r\n    </g>\r\n    <g id=\"text_6\">\r\n     <!-- x -->\r\n     <g transform=\"translate(213.423438 268.034687)scale(0.1 -0.1)\">\r\n      <defs>\r\n       <path d=\"M 54.890625 54.6875 \r\nL 35.109375 28.078125 \r\nL 55.90625 0 \r\nL 45.3125 0 \r\nL 29.390625 21.484375 \r\nL 13.484375 0 \r\nL 2.875 0 \r\nL 24.125 28.609375 \r\nL 4.6875 54.6875 \r\nL 15.28125 54.6875 \r\nL 29.78125 35.203125 \r\nL 44.28125 54.6875 \r\nz\r\n\" id=\"DejaVuSans-120\"/>\r\n      </defs>\r\n      <use xlink:href=\"#DejaVuSans-120\"/>\r\n     </g>\r\n    </g>\r\n   </g>\r\n   <g id=\"matplotlib.axis_2\">\r\n    <g id=\"ytick_1\">\r\n     <g id=\"line2d_6\">\r\n      <defs>\r\n       <path d=\"M 0 0 \r\nL -3.5 0 \r\n\" id=\"m4955f69cb5\" style=\"stroke:#000000;stroke-width:0.8;\"/>\r\n      </defs>\r\n      <g>\r\n       <use style=\"stroke:#000000;stroke-width:0.8;\" x=\"48.982813\" xlink:href=\"#m4955f69cb5\" y=\"210.937046\"/>\r\n      </g>\r\n     </g>\r\n     <g id=\"text_7\">\r\n      <!-- −10 -->\r\n      <g transform=\"translate(20.878125 214.736264)scale(0.1 -0.1)\">\r\n       <defs>\r\n        <path d=\"M 12.40625 8.296875 \r\nL 28.515625 8.296875 \r\nL 28.515625 63.921875 \r\nL 10.984375 60.40625 \r\nL 10.984375 69.390625 \r\nL 28.421875 72.90625 \r\nL 38.28125 72.90625 \r\nL 38.28125 8.296875 \r\nL 54.390625 8.296875 \r\nL 54.390625 0 \r\nL 12.40625 0 \r\nz\r\n\" id=\"DejaVuSans-49\"/>\r\n       </defs>\r\n       <use xlink:href=\"#DejaVuSans-8722\"/>\r\n       <use x=\"83.789062\" xlink:href=\"#DejaVuSans-49\"/>\r\n       <use x=\"147.412109\" xlink:href=\"#DejaVuSans-48\"/>\r\n      </g>\r\n     </g>\r\n    </g>\r\n    <g id=\"ytick_2\">\r\n     <g id=\"line2d_7\">\r\n      <g>\r\n       <use style=\"stroke:#000000;stroke-width:0.8;\" x=\"48.982813\" xlink:href=\"#m4955f69cb5\" y=\"163.906183\"/>\r\n      </g>\r\n     </g>\r\n     <g id=\"text_8\">\r\n      <!-- −5 -->\r\n      <g transform=\"translate(27.240625 167.705402)scale(0.1 -0.1)\">\r\n       <defs>\r\n        <path d=\"M 10.796875 72.90625 \r\nL 49.515625 72.90625 \r\nL 49.515625 64.59375 \r\nL 19.828125 64.59375 \r\nL 19.828125 46.734375 \r\nQ 21.96875 47.46875 24.109375 47.828125 \r\nQ 26.265625 48.1875 28.421875 48.1875 \r\nQ 40.625 48.1875 47.75 41.5 \r\nQ 54.890625 34.8125 54.890625 23.390625 \r\nQ 54.890625 11.625 47.5625 5.09375 \r\nQ 40.234375 -1.421875 26.90625 -1.421875 \r\nQ 22.3125 -1.421875 17.546875 -0.640625 \r\nQ 12.796875 0.140625 7.71875 1.703125 \r\nL 7.71875 11.625 \r\nQ 12.109375 9.234375 16.796875 8.0625 \r\nQ 21.484375 6.890625 26.703125 6.890625 \r\nQ 35.15625 6.890625 40.078125 11.328125 \r\nQ 45.015625 15.765625 45.015625 23.390625 \r\nQ 45.015625 31 40.078125 35.4375 \r\nQ 35.15625 39.890625 26.703125 39.890625 \r\nQ 22.75 39.890625 18.8125 39.015625 \r\nQ 14.890625 38.140625 10.796875 36.28125 \r\nz\r\n\" id=\"DejaVuSans-53\"/>\r\n       </defs>\r\n       <use xlink:href=\"#DejaVuSans-8722\"/>\r\n       <use x=\"83.789062\" xlink:href=\"#DejaVuSans-53\"/>\r\n      </g>\r\n     </g>\r\n    </g>\r\n    <g id=\"ytick_3\">\r\n     <g id=\"line2d_8\">\r\n      <g>\r\n       <use style=\"stroke:#000000;stroke-width:0.8;\" x=\"48.982813\" xlink:href=\"#m4955f69cb5\" y=\"116.87532\"/>\r\n      </g>\r\n     </g>\r\n     <g id=\"text_9\">\r\n      <!-- 0 -->\r\n      <g transform=\"translate(35.620312 120.674539)scale(0.1 -0.1)\">\r\n       <use xlink:href=\"#DejaVuSans-48\"/>\r\n      </g>\r\n     </g>\r\n    </g>\r\n    <g id=\"ytick_4\">\r\n     <g id=\"line2d_9\">\r\n      <g>\r\n       <use style=\"stroke:#000000;stroke-width:0.8;\" x=\"48.982813\" xlink:href=\"#m4955f69cb5\" y=\"69.844458\"/>\r\n      </g>\r\n     </g>\r\n     <g id=\"text_10\">\r\n      <!-- 5 -->\r\n      <g transform=\"translate(35.620312 73.643677)scale(0.1 -0.1)\">\r\n       <use xlink:href=\"#DejaVuSans-53\"/>\r\n      </g>\r\n     </g>\r\n    </g>\r\n    <g id=\"ytick_5\">\r\n     <g id=\"line2d_10\">\r\n      <g>\r\n       <use style=\"stroke:#000000;stroke-width:0.8;\" x=\"48.982813\" xlink:href=\"#m4955f69cb5\" y=\"22.813595\"/>\r\n      </g>\r\n     </g>\r\n     <g id=\"text_11\">\r\n      <!-- 10 -->\r\n      <g transform=\"translate(29.257812 26.612814)scale(0.1 -0.1)\">\r\n       <use xlink:href=\"#DejaVuSans-49\"/>\r\n       <use x=\"63.623047\" xlink:href=\"#DejaVuSans-48\"/>\r\n      </g>\r\n     </g>\r\n    </g>\r\n    <g id=\"text_12\">\r\n     <!-- y -->\r\n     <g transform=\"translate(14.798438 133.9975)rotate(-90)scale(0.1 -0.1)\">\r\n      <defs>\r\n       <path d=\"M 32.171875 -5.078125 \r\nQ 28.375 -14.84375 24.75 -17.8125 \r\nQ 21.140625 -20.796875 15.09375 -20.796875 \r\nL 7.90625 -20.796875 \r\nL 7.90625 -13.28125 \r\nL 13.1875 -13.28125 \r\nQ 16.890625 -13.28125 18.9375 -11.515625 \r\nQ 21 -9.765625 23.484375 -3.21875 \r\nL 25.09375 0.875 \r\nL 2.984375 54.6875 \r\nL 12.5 54.6875 \r\nL 29.59375 11.921875 \r\nL 46.6875 54.6875 \r\nL 56.203125 54.6875 \r\nz\r\n\" id=\"DejaVuSans-121\"/>\r\n      </defs>\r\n      <use xlink:href=\"#DejaVuSans-121\"/>\r\n     </g>\r\n    </g>\r\n   </g>\r\n   <g id=\"patch_3\">\r\n    <path d=\"M 48.982813 239.758125 \r\nL 48.982813 22.318125 \r\n\" style=\"fill:none;stroke:#000000;stroke-linecap:square;stroke-linejoin:miter;stroke-width:0.8;\"/>\r\n   </g>\r\n   <g id=\"patch_4\">\r\n    <path d=\"M 383.782813 239.758125 \r\nL 383.782813 22.318125 \r\n\" style=\"fill:none;stroke:#000000;stroke-linecap:square;stroke-linejoin:miter;stroke-width:0.8;\"/>\r\n   </g>\r\n   <g id=\"patch_5\">\r\n    <path d=\"M 48.982812 239.758125 \r\nL 383.782812 239.758125 \r\n\" style=\"fill:none;stroke:#000000;stroke-linecap:square;stroke-linejoin:miter;stroke-width:0.8;\"/>\r\n   </g>\r\n   <g id=\"patch_6\">\r\n    <path d=\"M 48.982812 22.318125 \r\nL 383.782812 22.318125 \r\n\" style=\"fill:none;stroke:#000000;stroke-linecap:square;stroke-linejoin:miter;stroke-width:0.8;\"/>\r\n   </g>\r\n   <g id=\"text_13\">\r\n    <!-- Training Data -->\r\n    <g transform=\"translate(176.479062 16.318125)scale(0.12 -0.12)\">\r\n     <defs>\r\n      <path d=\"M -0.296875 72.90625 \r\nL 61.375 72.90625 \r\nL 61.375 64.59375 \r\nL 35.5 64.59375 \r\nL 35.5 0 \r\nL 25.59375 0 \r\nL 25.59375 64.59375 \r\nL -0.296875 64.59375 \r\nz\r\n\" id=\"DejaVuSans-84\"/>\r\n      <path d=\"M 41.109375 46.296875 \r\nQ 39.59375 47.171875 37.8125 47.578125 \r\nQ 36.03125 48 33.890625 48 \r\nQ 26.265625 48 22.1875 43.046875 \r\nQ 18.109375 38.09375 18.109375 28.8125 \r\nL 18.109375 0 \r\nL 9.078125 0 \r\nL 9.078125 54.6875 \r\nL 18.109375 54.6875 \r\nL 18.109375 46.1875 \r\nQ 20.953125 51.171875 25.484375 53.578125 \r\nQ 30.03125 56 36.53125 56 \r\nQ 37.453125 56 38.578125 55.875 \r\nQ 39.703125 55.765625 41.0625 55.515625 \r\nz\r\n\" id=\"DejaVuSans-114\"/>\r\n      <path d=\"M 34.28125 27.484375 \r\nQ 23.390625 27.484375 19.1875 25 \r\nQ 14.984375 22.515625 14.984375 16.5 \r\nQ 14.984375 11.71875 18.140625 8.90625 \r\nQ 21.296875 6.109375 26.703125 6.109375 \r\nQ 34.1875 6.109375 38.703125 11.40625 \r\nQ 43.21875 16.703125 43.21875 25.484375 \r\nL 43.21875 27.484375 \r\nz\r\nM 52.203125 31.203125 \r\nL 52.203125 0 \r\nL 43.21875 0 \r\nL 43.21875 8.296875 \r\nQ 40.140625 3.328125 35.546875 0.953125 \r\nQ 30.953125 -1.421875 24.3125 -1.421875 \r\nQ 15.921875 -1.421875 10.953125 3.296875 \r\nQ 6 8.015625 6 15.921875 \r\nQ 6 25.140625 12.171875 29.828125 \r\nQ 18.359375 34.515625 30.609375 34.515625 \r\nL 43.21875 34.515625 \r\nL 43.21875 35.40625 \r\nQ 43.21875 41.609375 39.140625 45 \r\nQ 35.0625 48.390625 27.6875 48.390625 \r\nQ 23 48.390625 18.546875 47.265625 \r\nQ 14.109375 46.140625 10.015625 43.890625 \r\nL 10.015625 52.203125 \r\nQ 14.9375 54.109375 19.578125 55.046875 \r\nQ 24.21875 56 28.609375 56 \r\nQ 40.484375 56 46.34375 49.84375 \r\nQ 52.203125 43.703125 52.203125 31.203125 \r\nz\r\n\" id=\"DejaVuSans-97\"/>\r\n      <path d=\"M 9.421875 54.6875 \r\nL 18.40625 54.6875 \r\nL 18.40625 0 \r\nL 9.421875 0 \r\nz\r\nM 9.421875 75.984375 \r\nL 18.40625 75.984375 \r\nL 18.40625 64.59375 \r\nL 9.421875 64.59375 \r\nz\r\n\" id=\"DejaVuSans-105\"/>\r\n      <path d=\"M 54.890625 33.015625 \r\nL 54.890625 0 \r\nL 45.90625 0 \r\nL 45.90625 32.71875 \r\nQ 45.90625 40.484375 42.875 44.328125 \r\nQ 39.84375 48.1875 33.796875 48.1875 \r\nQ 26.515625 48.1875 22.3125 43.546875 \r\nQ 18.109375 38.921875 18.109375 30.90625 \r\nL 18.109375 0 \r\nL 9.078125 0 \r\nL 9.078125 54.6875 \r\nL 18.109375 54.6875 \r\nL 18.109375 46.1875 \r\nQ 21.34375 51.125 25.703125 53.5625 \r\nQ 30.078125 56 35.796875 56 \r\nQ 45.21875 56 50.046875 50.171875 \r\nQ 54.890625 44.34375 54.890625 33.015625 \r\nz\r\n\" id=\"DejaVuSans-110\"/>\r\n      <path d=\"M 45.40625 27.984375 \r\nQ 45.40625 37.75 41.375 43.109375 \r\nQ 37.359375 48.484375 30.078125 48.484375 \r\nQ 22.859375 48.484375 18.828125 43.109375 \r\nQ 14.796875 37.75 14.796875 27.984375 \r\nQ 14.796875 18.265625 18.828125 12.890625 \r\nQ 22.859375 7.515625 30.078125 7.515625 \r\nQ 37.359375 7.515625 41.375 12.890625 \r\nQ 45.40625 18.265625 45.40625 27.984375 \r\nz\r\nM 54.390625 6.78125 \r\nQ 54.390625 -7.171875 48.1875 -13.984375 \r\nQ 42 -20.796875 29.203125 -20.796875 \r\nQ 24.46875 -20.796875 20.265625 -20.09375 \r\nQ 16.0625 -19.390625 12.109375 -17.921875 \r\nL 12.109375 -9.1875 \r\nQ 16.0625 -11.328125 19.921875 -12.34375 \r\nQ 23.78125 -13.375 27.78125 -13.375 \r\nQ 36.625 -13.375 41.015625 -8.765625 \r\nQ 45.40625 -4.15625 45.40625 5.171875 \r\nL 45.40625 9.625 \r\nQ 42.625 4.78125 38.28125 2.390625 \r\nQ 33.9375 0 27.875 0 \r\nQ 17.828125 0 11.671875 7.65625 \r\nQ 5.515625 15.328125 5.515625 27.984375 \r\nQ 5.515625 40.671875 11.671875 48.328125 \r\nQ 17.828125 56 27.875 56 \r\nQ 33.9375 56 38.28125 53.609375 \r\nQ 42.625 51.21875 45.40625 46.390625 \r\nL 45.40625 54.6875 \r\nL 54.390625 54.6875 \r\nz\r\n\" id=\"DejaVuSans-103\"/>\r\n      <path id=\"DejaVuSans-32\"/>\r\n      <path d=\"M 19.671875 64.796875 \r\nL 19.671875 8.109375 \r\nL 31.59375 8.109375 \r\nQ 46.6875 8.109375 53.6875 14.9375 \r\nQ 60.6875 21.78125 60.6875 36.53125 \r\nQ 60.6875 51.171875 53.6875 57.984375 \r\nQ 46.6875 64.796875 31.59375 64.796875 \r\nz\r\nM 9.8125 72.90625 \r\nL 30.078125 72.90625 \r\nQ 51.265625 72.90625 61.171875 64.09375 \r\nQ 71.09375 55.28125 71.09375 36.53125 \r\nQ 71.09375 17.671875 61.125 8.828125 \r\nQ 51.171875 0 30.078125 0 \r\nL 9.8125 0 \r\nz\r\n\" id=\"DejaVuSans-68\"/>\r\n      <path d=\"M 18.3125 70.21875 \r\nL 18.3125 54.6875 \r\nL 36.8125 54.6875 \r\nL 36.8125 47.703125 \r\nL 18.3125 47.703125 \r\nL 18.3125 18.015625 \r\nQ 18.3125 11.328125 20.140625 9.421875 \r\nQ 21.96875 7.515625 27.59375 7.515625 \r\nL 36.8125 7.515625 \r\nL 36.8125 0 \r\nL 27.59375 0 \r\nQ 17.1875 0 13.234375 3.875 \r\nQ 9.28125 7.765625 9.28125 18.015625 \r\nL 9.28125 47.703125 \r\nL 2.6875 47.703125 \r\nL 2.6875 54.6875 \r\nL 9.28125 54.6875 \r\nL 9.28125 70.21875 \r\nz\r\n\" id=\"DejaVuSans-116\"/>\r\n     </defs>\r\n     <use xlink:href=\"#DejaVuSans-84\"/>\r\n     <use x=\"46.333984\" xlink:href=\"#DejaVuSans-114\"/>\r\n     <use x=\"87.447266\" xlink:href=\"#DejaVuSans-97\"/>\r\n     <use x=\"148.726562\" xlink:href=\"#DejaVuSans-105\"/>\r\n     <use x=\"176.509766\" xlink:href=\"#DejaVuSans-110\"/>\r\n     <use x=\"239.888672\" xlink:href=\"#DejaVuSans-105\"/>\r\n     <use x=\"267.671875\" xlink:href=\"#DejaVuSans-110\"/>\r\n     <use x=\"331.050781\" xlink:href=\"#DejaVuSans-103\"/>\r\n     <use x=\"394.527344\" xlink:href=\"#DejaVuSans-32\"/>\r\n     <use x=\"426.314453\" xlink:href=\"#DejaVuSans-68\"/>\r\n     <use x=\"503.316406\" xlink:href=\"#DejaVuSans-97\"/>\r\n     <use x=\"564.595703\" xlink:href=\"#DejaVuSans-116\"/>\r\n     <use x=\"603.804688\" xlink:href=\"#DejaVuSans-97\"/>\r\n    </g>\r\n   </g>\r\n  </g>\r\n </g>\r\n <defs>\r\n  <clipPath id=\"p9ac05bd2ff\">\r\n   <rect height=\"217.44\" width=\"334.8\" x=\"48.982813\" y=\"22.318125\"/>\r\n  </clipPath>\r\n </defs>\r\n</svg>\r\n",
      "image/png": "[encoded data removed]"
     },
     "metadata": {
      "needs_background": "light"
     }
    }
   ],
   "source": [
    "# Set random seed\n",
    "np.random.seed(0)\n",
    "\n",
    "# Create random set of m training x values between -5 and 5\n",
    "m = 100\n",
    "x = np.random.rand(m)*10 - 5   \n",
    "\n",
    "# Create evenly spaced test x values (for plotting)\n",
    "x_test  = np.linspace(-5, 5, 100)\n",
    "m_test  = len(x_test);\n",
    "\n",
    "# Feature expansion for training and test x values\n",
    "deg = 4\n",
    "X      = feature_expansion(x, deg)\n",
    "X_test = feature_expansion(x_test, deg)\n",
    "\n",
    "n = deg + 1   # total number of features including the '1' feature\n",
    "\n",
    "# Define parameters (theta) and generate y values\n",
    "theta = 0.1*np.array([1, 1, 10, 0.5, -0.5]);\n",
    "y = np.dot(X, theta) + np.random.randn(m)   # polynomial plus noise\n",
    "\n",
    "# Plot the training data\n",
    "plt.scatter(x, y)\n",
    "plt.title('Training Data')\n",
    "plt.xlabel('x')\n",
    "plt.ylabel('y')\n",
    "plt.show()\n"
   ]
  },
  {
   "cell_type": "code",
   "execution_count": 4,
   "metadata": {},
   "outputs": [
    {
     "output_type": "stream",
     "name": "stdout",
     "text": [
      "0.48813503927324753\n[1.         0.48813504 0.23827582 0.11631078 0.05677536]\n"
     ]
    }
   ],
   "source": [
    "#look at the feature expansion for a single training example\n",
    "print(x[0]) #original data \n",
    "print(X[0]) #data with feature expansion"
   ]
  },
  {
   "cell_type": "markdown",
   "metadata": {},
   "source": [
    "## Implement the cost function\n",
    "Follow the instructions to implement the following cost function for multivariate linear regression:\n",
    "\n",
    "$$J(\\theta) = \\frac{1}{2}\\sum_{i=1}^n(h_{\\theta}(x^{(i)})-y^{(i)})^2$$"
   ]
  },
  {
   "cell_type": "markdown",
   "metadata": {},
   "source": [
    "### (3 points)  Cost function with loops \n",
    "First, implement the cost function using a for-loops: `cost_function_loops`."
   ]
  },
  {
   "cell_type": "code",
   "execution_count": 7,
   "metadata": {},
   "outputs": [],
   "source": [
    "def cost_function_loops(X, y, theta):  \n",
    "    '''\n",
    "    Compute the cost function for a particular data set and \n",
    "    hypothesis (parameter vector)\n",
    "    \n",
    "    \n",
    "    Inputs: \n",
    "        X       m x n data matrix\n",
    "        y       training output (length m vector)\n",
    "        theta   parameters (length n vector)\n",
    "    Output:\n",
    "        cost    the value of the cost function (scalar)\n",
    "    '''\n",
    "    # TODO: write correct code to implement the cost function given above\n",
    "    # Use for-loops for this function\n",
    "    m,n = X.shape\n",
    "    cost = 0\n",
    "    for i in range(m):\n",
    "        cur = 0\n",
    "        for j in range(n):\n",
    "            cur += theta[j]*X[i][j]\n",
    "        cost += (cur - y[i])**2\n",
    "    return cost"
   ]
  },
  {
   "cell_type": "markdown",
   "metadata": {},
   "source": [
    "### (3 points)  Vectorized cost function \n",
    "Now, implment the same cost function but now WITHOUT any for-loops. You should be using NumPy. This is a \"vectorized\" version of the cost function: `cost_function_vec`"
   ]
  },
  {
   "cell_type": "code",
   "execution_count": 14,
   "metadata": {},
   "outputs": [],
   "source": [
    "def cost_function_vec(X, y, theta):  \n",
    "    '''\n",
    "    No for-loops allowed! \n",
    "    \n",
    "    Compute the cost function for a particular data set and \n",
    "    hypothesis (parameter vector)\n",
    "    \n",
    "    Inputs: \n",
    "        X       m x n data matrix\n",
    "        y       training output (length m vector)\n",
    "        theta   parameters (length n vector)\n",
    "    Output:\n",
    "        cost    the value of the cost function (scalar)\n",
    "    '''\n",
    "    \n",
    "    # TODO: write correct code to implement the cost function given above\n",
    "    # You CANNOT use for-loops here!\n",
    "    cost = np.sum((X@theta - y)**2)\n",
    "    return cost"
   ]
  },
  {
   "cell_type": "markdown",
   "metadata": {},
   "source": [
    "## Test the cost function\n",
    "Run this to test your cost function."
   ]
  },
  {
   "cell_type": "code",
   "execution_count": 15,
   "metadata": {},
   "outputs": [
    {
     "output_type": "stream",
     "name": "stdout",
     "text": [
      "cost_function_loops\n====================\nCost (random): 109047.29\nCost (zeros): 1691.30\nCost (ones): 5049362.16\n\ncost_function_vec\n====================\nCost (random): 109047.29\nCost (zeros): 1691.30\nCost (ones): 5049362.16\n\n"
     ]
    }
   ],
   "source": [
    "np.random.seed(1)\n",
    "\n",
    "theta_random = np.random.rand(n)\n",
    "theta_zeros  = np.zeros(n)\n",
    "theta_ones   = np.ones(n)\n",
    "\n",
    "print(\"cost_function_loops\")\n",
    "print(\"==\"*10)\n",
    "print( \"Cost (random): %.2f\" % cost_function_loops(X, y, theta_random))  # prints 54523.64\n",
    "print( \"Cost (zeros): %.2f\" % cost_function_loops(X, y, theta_zeros))   # prints 845.65\n",
    "print( \"Cost (ones): %.2f\" % cost_function_loops(X, y, theta_ones))    # prints 2524681.08\n",
    "print()\n",
    "print(\"cost_function_vec\")\n",
    "print(\"==\"*10)\n",
    "print( \"Cost (random): %.2f\" % cost_function_vec(X, y, theta_random))  # prints 54523.64\n",
    "print( \"Cost (zeros): %.2f\" % cost_function_vec(X, y, theta_zeros))   # prints 845.65\n",
    "print( \"Cost (ones): %.2f\" % cost_function_vec(X, y, theta_ones))    # prints 2524681.08\n",
    "print()\n",
    "#Note: The for-loop and vectorized cost function implementations should return the EXACT \n",
    "# same results. "
   ]
  },
  {
   "cell_type": "markdown",
   "metadata": {},
   "source": [
    "## (2 points)  Time cost functions \n",
    "\n",
    "- Run `cost_function_loops` and `cost_function_vec` each 100 times for `theta_random` and the `X` and `y` given above\n",
    "- Print out the mean and standard deviation across all runs for each function \n",
    "- Report which function is faster.  "
   ]
  },
  {
   "cell_type": "code",
   "execution_count": null,
   "metadata": {},
   "outputs": [],
   "source": [
    "np.random.seed(1)\n",
    "theta_random = np.random.rand(n)\n",
    "##################\n",
    "# TODO: implement your code here #\n",
    "##################"
   ]
  },
  {
   "cell_type": "markdown",
   "metadata": {},
   "source": [
    "** *Write answer here: report which function is faster* **"
   ]
  },
  {
   "cell_type": "markdown",
   "metadata": {},
   "source": [
    "### For the rest of this notebook, we will use the vectorized implementation of the cost function \n",
    "Run the code below. "
   ]
  },
  {
   "cell_type": "code",
   "execution_count": null,
   "metadata": {},
   "outputs": [],
   "source": [
    "cost_function = cost_function_vec"
   ]
  },
  {
   "cell_type": "code",
   "execution_count": null,
   "metadata": {},
   "outputs": [],
   "source": [
    "#make sure it works \n",
    "cost_function(X, y, theta_random)"
   ]
  },
  {
   "cell_type": "markdown",
   "metadata": {},
   "source": [
    "## (7 points) Implement first training algorithm: normal equations\n",
    "Implement a *vectorized* version of the normal equations! If you use for-loops you will not get full credit. "
   ]
  },
  {
   "cell_type": "code",
   "execution_count": null,
   "metadata": {},
   "outputs": [],
   "source": [
    "def normal_equations(X, y):\n",
    "    '''\n",
    "    Train a linear regression model using the normal equations\n",
    "\n",
    "    Inputs: \n",
    "        X       m x n data matrix\n",
    "        y       training output (length m vector)\n",
    "    Output:\n",
    "        theta   parameters (length n vector)\n",
    "\n",
    "    '''\n",
    "    # TODO: write correct code to find theta using the normal equations\n",
    "    m, n = X.shape\n",
    "    theta = np.zeros(n)\n",
    "    return theta"
   ]
  },
  {
   "cell_type": "markdown",
   "metadata": {},
   "source": [
    "## Use normal equations to fit the model\n",
    "Run this code to test your implementation of the normal equations. If it runs properly you will see a curve that fits the data well. Note the value of the cost function for ``theta_normal_equations``."
   ]
  },
  {
   "cell_type": "code",
   "execution_count": null,
   "metadata": {},
   "outputs": [],
   "source": [
    "theta_normal_equations = normal_equations(X, y)\n",
    "plot_model(X_test, theta_normal_equations)\n",
    "print (\"Cost function: %.2f\" % cost_function(X, y, theta_normal_equations))"
   ]
  },
  {
   "cell_type": "markdown",
   "metadata": {},
   "source": [
    "## (7 points) Implement second training algorithm: (vectorized) gradient descent\n",
    "\n",
    "Implement gradient descent for multivariate linear regression. Make sure your solution is vectorized. If you use for-loops to compute the gradient you will not receive full credit. "
   ]
  },
  {
   "cell_type": "code",
   "execution_count": null,
   "metadata": {},
   "outputs": [],
   "source": [
    "def gradient_descent( X, y, alpha, iters, theta=None ):\n",
    "    '''\n",
    "    Train a linear regression model by gradient descent\n",
    "\n",
    "    Inputs: \n",
    "        X       m x n data matrix\n",
    "        y       training output (length m vector)\n",
    "        alpha   step size\n",
    "        iters   number of iterations\n",
    "        theta   initial parameter values (length n vector; optional)\n",
    "    \n",
    "    Output:\n",
    "        theta      learned parameters (length n vector)\n",
    "        J_history  trace of cost function value in each iteration\n",
    "\n",
    "    '''\n",
    "\n",
    "    m,n = X.shape\n",
    "    \n",
    "    if theta is None:\n",
    "        theta = np.zeros(n)\n",
    "    \n",
    "    # For recording cost function value during gradient descent\n",
    "    J_history = np.zeros(iters)\n",
    "\n",
    "    for i in range(0, iters):\n",
    "        \n",
    "        # TODO: compute gradient (vectorized) and update theta\n",
    "        \n",
    "        # Record cost function\n",
    "        J_history[i] = cost_function(X, y, theta)\n",
    "        \n",
    "    return theta, J_history"
   ]
  },
  {
   "cell_type": "markdown",
   "metadata": {},
   "source": [
    "## (6 points) Use gradient descent to train the model\n",
    "* Write code to call your ``gradient_descent`` method to learn parameter\n",
    "* Plot the model fit (use ``plot_model``)\n",
    "* Plot the cost function vs. iteration to help assess convergence\n",
    "* Print the final value of the cost function\n",
    "* Experiment with different step sizes and numbers of iterations until you can find a good hypothesis. Try to match the cost function value from ``normal_equations`` to two decimal places. How many iterations does this take?"
   ]
  },
  {
   "cell_type": "code",
   "execution_count": null,
   "metadata": {},
   "outputs": [],
   "source": [
    "# TODO: write code"
   ]
  },
  {
   "cell_type": "markdown",
   "metadata": {},
   "source": [
    "** *Write your answers here* **"
   ]
  },
  {
   "cell_type": "markdown",
   "metadata": {
    "collapsed": true
   },
   "source": [
    "## (10 points) Gradient descent with feature normalization\n",
    "You should have observed\n",
    "that it takes many iterations of gradient descent to match the cost\n",
    "function value achieved by the normal equations. Now\n",
    "you will implement feature normalization to improve the convergence\n",
    "of gradient descent. Remember that the formula\n",
    "for feature normalization is:\n",
    "\n",
    "$$x^{(i)}_j \\leftarrow \\frac{x^{(i)}_j - \\mu_j}{\\sigma_j}$$\n",
    "\n",
    "Here are some guidelines for the implementation:\n",
    "\n",
    "* The same transformation should be applied to train and test data.\n",
    "\n",
    "* The values $\\mu_j$ and $\\sigma_j$ are the mean and standard deviation of\n",
    "the $j$th column (i.e., feature) in the **training data**. (Hint:\n",
    "there are numpy functions to compute these.)\n",
    "\n",
    "* Do not normalize the column of all ones. (Optional question: why?)\n",
    "\n",
    "* Use broadcasting to do the normalization--don't write for loops\n",
    "\n",
    "After normalizing both the training data and test data, follow the same steps as above to experiment with gradient descent using the *normalized* training and test data: print the value of the cost function, and create the same plots. Tune the step size and number of iterations again to make gradient descent converge as quickly as possible. How many iterations does it take to match the cost function value from ``normal_equations`` to two decimal places?  \n"
   ]
  },
  {
   "cell_type": "code",
   "execution_count": null,
   "metadata": {},
   "outputs": [],
   "source": [
    "# TODO: your code for gradient descent with feature normalization"
   ]
  },
  {
   "cell_type": "markdown",
   "metadata": {},
   "source": [
    "** *Write answer here: how many iterations?* **"
   ]
  }
 ],
 "metadata": {
  "anaconda-cloud": {},
  "kernelspec": {
   "name": "python3",
   "display_name": "Python 3.8.5 32-bit",
   "metadata": {
    "interpreter": {
     "hash": "094a986dbe4107eea991e75c3a97f40a2d3727af4659fa42ca665dd48f835325"
    }
   }
  },
  "language_info": {
   "codemirror_mode": {
    "name": "ipython",
    "version": 3
   },
   "file_extension": ".py",
   "mimetype": "text/x-python",
   "name": "python",
   "nbconvert_exporter": "python",
   "pygments_lexer": "ipython3",
   "version": "3.8.5-final"
  }
 },
 "nbformat": 4,
 "nbformat_minor": 1
}